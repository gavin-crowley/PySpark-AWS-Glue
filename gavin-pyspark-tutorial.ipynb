{
	"metadata": {
		"kernelspec": {
			"name": "glue_pyspark",
			"display_name": "Glue PySpark",
			"language": "python"
		},
		"language_info": {
			"name": "Python_Glue_Session",
			"mimetype": "text/x-python",
			"codemirror_mode": {
				"name": "python",
				"version": 3
			},
			"pygments_lexer": "python3",
			"file_extension": ".py"
		}
	},
	"nbformat_minor": 4,
	"nbformat": 4,
	"cells": [
		{
			"cell_type": "markdown",
			"source": "# AWS Glue Studio Notebook\n##### You are now running a AWS Glue Studio notebook; To start using your notebook you need to start an AWS Glue Interactive Session.\n",
			"metadata": {
				"editable": true,
				"trusted": true
			}
		},
		{
			"cell_type": "markdown",
			"source": "#### Optional: Run this cell to see available notebook commands (\"magics\").\n",
			"metadata": {
				"editable": true,
				"trusted": true
			}
		},
		{
			"cell_type": "code",
			"source": "%help",
			"metadata": {
				"editable": true,
				"trusted": true
			},
			"execution_count": 2,
			"outputs": [
				{
					"name": "stdout",
					"text": "Welcome to the Glue Interactive Sessions Kernel\nFor more information on available magic commands, please type %help in any new cell.\n\nPlease view our Getting Started page to access the most up-to-date information on the Interactive Sessions kernel: https://docs.aws.amazon.com/glue/latest/dg/interactive-sessions.html\nInstalled kernel version: 0.37.3 \n",
					"output_type": "stream"
				},
				{
					"output_type": "display_data",
					"data": {
						"text/markdown": "\n# Available Magic Commands\n\n## Sessions Magic\n\n----\n    %help                             Return a list of descriptions and input types for all magic commands. \n    %profile            String        Specify a profile in your aws configuration to use as the credentials provider.\n    %region             String        Specify the AWS region in which to initialize a session. \n                                      Default from ~/.aws/config on Linux or macOS, \n                                      or C:\\Users\\ USERNAME \\.aws\\config\" on Windows.\n    %idle_timeout       Int           The number of minutes of inactivity after which a session will timeout. \n                                      Default: 2880 minutes (48 hours).\n    %session_id_prefix  String        Define a String that will precede all session IDs in the format \n                                      [session_id_prefix]-[session_id]. If a session ID is not provided,\n                                      a random UUID will be generated.\n    %status                           Returns the status of the current Glue session including its duration, \n                                      configuration and executing user / role.\n    %session_id                       Returns the session ID for the running session. \n    %list_sessions                    Lists all currently running sessions by ID.\n    %stop_session                     Stops the current session.\n    %glue_version       String        The version of Glue to be used by this session. \n                                      Currently, the only valid options are 2.0 and 3.0. \n                                      Default: 2.0.\n----\n\n## Selecting Job Types\n\n----\n    %streaming          String        Sets the session type to Glue Streaming.\n    %etl                String        Sets the session type to Glue ETL.\n    %glue_ray           String        Sets the session type to Glue Ray.\n----\n\n## Glue Config Magic \n*(common across all job types)*\n\n----\n\n    %%configure         Dictionary    A json-formatted dictionary consisting of all configuration parameters for \n                                      a session. Each parameter can be specified here or through individual magics.\n    %iam_role           String        Specify an IAM role ARN to execute your session with.\n                                      Default from ~/.aws/config on Linux or macOS, \n                                      or C:\\Users\\%USERNAME%\\.aws\\config` on Windows.\n    %number_of_workers  int           The number of workers of a defined worker_type that are allocated \n                                      when a session runs.\n                                      Default: 5.\n    %additional_python_modules  List  Comma separated list of additional Python modules to include in your cluster \n                                      (can be from Pypi or S3).\n----\n\n                                      \n## Magic for Spark Jobs (ETL & Streaming)\n\n----\n    %worker_type        String        Set the type of instances the session will use as workers. \n                                      ETL and Streaming support G.1X, G.2X, G.4X and G.8X. \n                                      Default: G.1X.\n    %connections        List          Specify a comma separated list of connections to use in the session.\n    %extra_py_files     List          Comma separated list of additional Python files From S3.\n    %extra_jars         List          Comma separated list of additional Jars to include in the cluster.\n    %spark_conf         String        Specify custom spark configurations for your session. \n                                      E.g. %spark_conf spark.serializer=org.apache.spark.serializer.KryoSerializer\n----\n                                      \n## Magic for Ray Job\n\n----\n    %min_workers        Int           The minimum number of workers that are allocated to a Ray job. \n                                      Default: 1.\n    %object_memory_head Int           The percentage of free memory on the instance head node after a warm start. \n                                      Minimum: 0. Maximum: 100.\n    %object_memory_worker Int         The percentage of free memory on the instance worker nodes after a warm start. \n                                      Minimum: 0. Maximum: 100.\n----\n\n## Action Magic\n\n----\n\n    %%sql               String        Run SQL code. All lines after the initial %%sql magic will be passed\n                                      as part of the SQL code.  \n----\n\n"
					},
					"metadata": {}
				}
			]
		},
		{
			"cell_type": "markdown",
			"source": "####  Run this cell to set up and start your interactive session.\n",
			"metadata": {
				"editable": true,
				"trusted": true
			}
		},
		{
			"cell_type": "code",
			"source": "%idle_timeout 2880\n%glue_version 3.0\n%worker_type G.1X\n%number_of_workers 5\n\nimport sys\nfrom awsglue.transforms import *\nfrom awsglue.utils import getResolvedOptions\nfrom pyspark.context import SparkContext\nfrom awsglue.context import GlueContext\nfrom awsglue.job import Job\n  \nsc = SparkContext.getOrCreate()\nglueContext = GlueContext(sc)\nspark = glueContext.spark_session\njob = Job(glueContext)",
			"metadata": {
				"editable": true,
				"trusted": true
			},
			"execution_count": 1,
			"outputs": [
				{
					"name": "stdout",
					"text": "Current idle_timeout is 2800 minutes.\nidle_timeout has been set to 2880 minutes.\nSetting Glue version to: 3.0\nPrevious worker type: G.1X\nSetting new worker type to: G.1X\nPrevious number of workers: 5\nSetting new number of workers to: 5\nAuthenticating with environment variables and user-defined glue_role_arn: arn:aws:iam::014903016512:role/gavxro-pyspark-tutorialRole\nTrying to create a Glue session for the kernel.\nWorker Type: G.1X\nNumber of Workers: 5\nSession ID: f098004f-76f6-49fa-8926-002e1927a61a\nJob Type: glueetl\nApplying the following default arguments:\n--glue_kernel_version 0.37.3\n--enable-glue-datacatalog true\nWaiting for session f098004f-76f6-49fa-8926-002e1927a61a to get into ready status...\nSession f098004f-76f6-49fa-8926-002e1927a61a has been created.\n\n",
					"output_type": "stream"
				}
			]
		},
		{
			"cell_type": "markdown",
			"source": "#### Example: Create a DynamicFrame from a table in the AWS Glue Data Catalog and display its schema\n",
			"metadata": {
				"editable": true,
				"trusted": true
			}
		},
		{
			"cell_type": "code",
			"source": "# 4.Read data from Customers Table using Notebook Using Dynamic Frame\ndynamicFrameCustomers = glueContext.create_dynamic_frame.from_catalog(\ndatabase = \"pyspark_tutorial_db\", \ntable_name = \"customers\"\n)\n\n# Show the top 10 rows from the dynamic dataframe\ndynamicFrameCustomers.show(10)",
			"metadata": {
				"editable": true,
				"trusted": true
			},
			"execution_count": 4,
			"outputs": [
				{
					"name": "stdout",
					"text": "{\"customerid\": 293, \"firstname\": \"Catherine\", \"lastname\": \"Abel\", \"fullname\": \"Catherine Abel\"}\n{\"customerid\": 295, \"firstname\": \"Kim\", \"lastname\": \"Abercrombie\", \"fullname\": \"Kim Abercrombie\"}\n{\"customerid\": 297, \"firstname\": \"Humberto\", \"lastname\": \"Acevedo\", \"fullname\": \"Humberto Acevedo\"}\n{\"customerid\": 291, \"firstname\": \"Gustavo\", \"lastname\": \"Achong\", \"fullname\": \"Gustavo Achong\"}\n{\"customerid\": 299, \"firstname\": \"Pilar\", \"lastname\": \"Ackerman\", \"fullname\": \"Pilar Ackerman\"}\n{\"customerid\": 305, \"firstname\": \"Carla\", \"lastname\": \"Adams\", \"fullname\": \"Carla Adams\"}\n{\"customerid\": 301, \"firstname\": \"Frances\", \"lastname\": \"Adams\", \"fullname\": \"Frances Adams\"}\n{\"customerid\": 307, \"firstname\": \"Jay\", \"lastname\": \"Adams\", \"fullname\": \"Jay Adams\"}\n{\"customerid\": 309, \"firstname\": \"Ronald\", \"lastname\": \"Adina\", \"fullname\": \"Ronald Adina\"}\n{\"customerid\": 311, \"firstname\": \"Samuel\", \"lastname\": \"Agcaoili\", \"fullname\": \"Samuel Agcaoili\"}\n",
					"output_type": "stream"
				}
			]
		},
		{
			"cell_type": "code",
			"source": "# s3output = glueContext.getSink(\n#   path=\"s3://bucket_name/folder_name\",\n#   connection_type=\"s3\",\n#   updateBehavior=\"UPDATE_IN_DATABASE\",\n#   partitionKeys=[],\n#   compression=\"snappy\",\n#   enableUpdateCatalog=True,\n#   transformation_ctx=\"s3output\",\n# )\n# s3output.setCatalogInfo(\n#   catalogDatabase=\"demo\", catalogTableName=\"populations\"\n# )\n# s3output.setFormat(\"glueparquet\")\n# s3output.writeFrame(DyF)",
			"metadata": {
				"editable": true,
				"trusted": true
			},
			"execution_count": null,
			"outputs": []
		},
		{
			"cell_type": "code",
			"source": "# 5. Check data types in Dynamic Frame\n# Check types in dynamic frame\ndynamicFrameCustomers.printSchema()",
			"metadata": {
				"trusted": true
			},
			"execution_count": 5,
			"outputs": [
				{
					"name": "stdout",
					"text": "root\n|-- customerid: long\n|-- firstname: string\n|-- lastname: string\n|-- fullname: string\n",
					"output_type": "stream"
				}
			]
		},
		{
			"cell_type": "code",
			"source": "",
			"metadata": {},
			"execution_count": null,
			"outputs": []
		},
		{
			"cell_type": "code",
			"source": "# 6. Count The Number of Rows in a Dynamic DataFrame\n# Count The Number of Rows in a Dynamic Dataframe \ndynamicFrameCustomers.count()",
			"metadata": {
				"trusted": true
			},
			"execution_count": 6,
			"outputs": [
				{
					"name": "stdout",
					"text": "635\n",
					"output_type": "stream"
				}
			]
		},
		{
			"cell_type": "code",
			"source": "",
			"metadata": {},
			"execution_count": null,
			"outputs": []
		},
		{
			"cell_type": "code",
			"source": "# 7. Select Fields From A Dynamic frame\n# Selecting certain fields from a Dynamic DataFrame\ndyfCustomerSelectFields = dynamicFrameCustomers.select_fields([\"customerid\", \"fullname\"])\n\n# Show top 10\ndyfCustomerSelectFields.show(10)",
			"metadata": {
				"trusted": true
			},
			"execution_count": 7,
			"outputs": [
				{
					"name": "stdout",
					"text": "{\"customerid\": 293, \"fullname\": \"Catherine Abel\"}\n{\"customerid\": 295, \"fullname\": \"Kim Abercrombie\"}\n{\"customerid\": 297, \"fullname\": \"Humberto Acevedo\"}\n{\"customerid\": 291, \"fullname\": \"Gustavo Achong\"}\n{\"customerid\": 299, \"fullname\": \"Pilar Ackerman\"}\n{\"customerid\": 305, \"fullname\": \"Carla Adams\"}\n{\"customerid\": 301, \"fullname\": \"Frances Adams\"}\n{\"customerid\": 307, \"fullname\": \"Jay Adams\"}\n{\"customerid\": 309, \"fullname\": \"Ronald Adina\"}\n{\"customerid\": 311, \"fullname\": \"Samuel Agcaoili\"}\n",
					"output_type": "stream"
				}
			]
		},
		{
			"cell_type": "code",
			"source": "# 8. Drop Columns in a Dynamic Frame\n#Drop Fields of Dynamic Frame\ndyfCustomerDropFields = dynamicFrameCustomers.drop_fields([\"firstname\",\"lastname\"])\n\n# Show Top 10 rows of dyfCustomerDropFields Dynamic Frame\ndyfCustomerDropFields.show(10)",
			"metadata": {
				"trusted": true
			},
			"execution_count": 8,
			"outputs": [
				{
					"name": "stdout",
					"text": "{\"customerid\": 293, \"fullname\": \"Catherine Abel\"}\n{\"customerid\": 295, \"fullname\": \"Kim Abercrombie\"}\n{\"customerid\": 297, \"fullname\": \"Humberto Acevedo\"}\n{\"customerid\": 291, \"fullname\": \"Gustavo Achong\"}\n{\"customerid\": 299, \"fullname\": \"Pilar Ackerman\"}\n{\"customerid\": 305, \"fullname\": \"Carla Adams\"}\n{\"customerid\": 301, \"fullname\": \"Frances Adams\"}\n{\"customerid\": 307, \"fullname\": \"Jay Adams\"}\n{\"customerid\": 309, \"fullname\": \"Ronald Adina\"}\n{\"customerid\": 311, \"fullname\": \"Samuel Agcaoili\"}\n",
					"output_type": "stream"
				}
			]
		},
		{
			"cell_type": "code",
			"source": "# 9. Rename Columns in a Dynamic Frame\n# Mapping array for column rename fullname -> name\nmapping=[(\"customerid\", \"long\", \"customerid\",\"long\"),(\"fullname\", \"string\", \"name\", \"string\")]\n\n# Apply the mapping to rename fullname -> name\ndfyMapping = ApplyMapping.apply(\n                                frame = dyfCustomerDropFields, \n                                mappings = mapping, \n                                transformation_ctx = \"applymapping1\"\n                                )\n\n# show the new dynamic frame with name column \ndfyMapping.show(10)",
			"metadata": {
				"trusted": true
			},
			"execution_count": 9,
			"outputs": [
				{
					"name": "stdout",
					"text": "{\"customerid\": 293, \"name\": \"Catherine Abel\"}\n{\"customerid\": 295, \"name\": \"Kim Abercrombie\"}\n{\"customerid\": 297, \"name\": \"Humberto Acevedo\"}\n{\"customerid\": 291, \"name\": \"Gustavo Achong\"}\n{\"customerid\": 299, \"name\": \"Pilar Ackerman\"}\n{\"customerid\": 305, \"name\": \"Carla Adams\"}\n{\"customerid\": 301, \"name\": \"Frances Adams\"}\n{\"customerid\": 307, \"name\": \"Jay Adams\"}\n{\"customerid\": 309, \"name\": \"Ronald Adina\"}\n{\"customerid\": 311, \"name\": \"Samuel Agcaoili\"}\n",
					"output_type": "stream"
				}
			]
		},
		{
			"cell_type": "code",
			"source": "# 10. Filter data in a Dynamic Frame\n# Filter dynamicFrameCustomers for customers who have the last name Adams\ndyfFilter=  Filter.apply(frame = dynamicFrameCustomers, \n                                        f = lambda x: x[\"lastname\"] in \"Adams\"\n                                    )\n\n# Show the top 10 customers  from the filtered Dynamic frame \ndyfFilter.show(10)",
			"metadata": {
				"trusted": true
			},
			"execution_count": 10,
			"outputs": [
				{
					"name": "stdout",
					"text": "{\"lastname\": \"Adams\", \"firstname\": \"Carla\", \"customerid\": 305, \"fullname\": \"Carla Adams\"}\n{\"lastname\": \"Adams\", \"firstname\": \"Frances\", \"customerid\": 301, \"fullname\": \"Frances Adams\"}\n{\"lastname\": \"Adams\", \"firstname\": \"Jay\", \"customerid\": 307, \"fullname\": \"Jay Adams\"}\n",
					"output_type": "stream"
				}
			]
		},
		{
			"cell_type": "code",
			"source": "# 11. Join Two Dynamic frames on a equality join\n# read up orders dynamic frame\n\n# Read from the customers table in the glue data catalog using a dynamic frame\ndynamicFrameOrders = glueContext.create_dynamic_frame.from_catalog(\ndatabase = \"pyspark_tutorial_db\", \ntable_name = \"orders\"\n)\n\n# show top 10 rows of orders table\ndynamicFrameOrders.show(10)",
			"metadata": {
				"trusted": true
			},
			"execution_count": 11,
			"outputs": [
				{
					"name": "stdout",
					"text": "{\"salesorderid\": 43659, \"salesorderdetailid\": 1, \"orderdate\": \"5/31/2011\", \"duedate\": \"6/12/2011\", \"shipdate\": \"6/7/2011\", \"employeeid\": 279, \"customerid\": 1045, \"subtotal\": 20565.6206, \"taxamt\": 1971.5149, \"freight\": 616.0984, \"totaldue\": 23153.2339, \"productid\": 776, \"orderqty\": 1, \"unitprice\": 2024.9940, \"unitpricediscount\": 0.0000, \"linetotal\": 2024.9940}\n{\"salesorderid\": 43659, \"salesorderdetailid\": 2, \"orderdate\": \"5/31/2011\", \"duedate\": \"6/12/2011\", \"shipdate\": \"6/7/2011\", \"employeeid\": 279, \"customerid\": 1045, \"subtotal\": 20565.6206, \"taxamt\": 1971.5149, \"freight\": 616.0984, \"totaldue\": 23153.2339, \"productid\": 777, \"orderqty\": 3, \"unitprice\": 2024.9940, \"unitpricediscount\": 0.0000, \"linetotal\": 6074.9820}\n{\"salesorderid\": 43659, \"salesorderdetailid\": 3, \"orderdate\": \"5/31/2011\", \"duedate\": \"6/12/2011\", \"shipdate\": \"6/7/2011\", \"employeeid\": 279, \"customerid\": 1045, \"subtotal\": 20565.6206, \"taxamt\": 1971.5149, \"freight\": 616.0984, \"totaldue\": 23153.2339, \"productid\": 778, \"orderqty\": 1, \"unitprice\": 2024.9940, \"unitpricediscount\": 0.0000, \"linetotal\": 2024.9940}\n{\"salesorderid\": 43659, \"salesorderdetailid\": 4, \"orderdate\": \"5/31/2011\", \"duedate\": \"6/12/2011\", \"shipdate\": \"6/7/2011\", \"employeeid\": 279, \"customerid\": 1045, \"subtotal\": 20565.6206, \"taxamt\": 1971.5149, \"freight\": 616.0984, \"totaldue\": 23153.2339, \"productid\": 771, \"orderqty\": 1, \"unitprice\": 2039.9940, \"unitpricediscount\": 0.0000, \"linetotal\": 2039.9940}\n{\"salesorderid\": 43659, \"salesorderdetailid\": 5, \"orderdate\": \"5/31/2011\", \"duedate\": \"6/12/2011\", \"shipdate\": \"6/7/2011\", \"employeeid\": 279, \"customerid\": 1045, \"subtotal\": 20565.6206, \"taxamt\": 1971.5149, \"freight\": 616.0984, \"totaldue\": 23153.2339, \"productid\": 772, \"orderqty\": 1, \"unitprice\": 2039.9940, \"unitpricediscount\": 0.0000, \"linetotal\": 2039.9940}\n{\"salesorderid\": 43659, \"salesorderdetailid\": 6, \"orderdate\": \"5/31/2011\", \"duedate\": \"6/12/2011\", \"shipdate\": \"6/7/2011\", \"employeeid\": 279, \"customerid\": 1045, \"subtotal\": 20565.6206, \"taxamt\": 1971.5149, \"freight\": 616.0984, \"totaldue\": 23153.2339, \"productid\": 773, \"orderqty\": 2, \"unitprice\": 2039.9940, \"unitpricediscount\": 0.0000, \"linetotal\": 4079.9880}\n{\"salesorderid\": 43659, \"salesorderdetailid\": 7, \"orderdate\": \"5/31/2011\", \"duedate\": \"6/12/2011\", \"shipdate\": \"6/7/2011\", \"employeeid\": 279, \"customerid\": 1045, \"subtotal\": 20565.6206, \"taxamt\": 1971.5149, \"freight\": 616.0984, \"totaldue\": 23153.2339, \"productid\": 774, \"orderqty\": 1, \"unitprice\": 2039.9940, \"unitpricediscount\": 0.0000, \"linetotal\": 2039.9940}\n{\"salesorderid\": 43659, \"salesorderdetailid\": 8, \"orderdate\": \"5/31/2011\", \"duedate\": \"6/12/2011\", \"shipdate\": \"6/7/2011\", \"employeeid\": 279, \"customerid\": 1045, \"subtotal\": 20565.6206, \"taxamt\": 1971.5149, \"freight\": 616.0984, \"totaldue\": 23153.2339, \"productid\": 714, \"orderqty\": 3, \"unitprice\": 28.8404, \"unitpricediscount\": 0.0000, \"linetotal\": 86.5212}\n{\"salesorderid\": 43659, \"salesorderdetailid\": 9, \"orderdate\": \"5/31/2011\", \"duedate\": \"6/12/2011\", \"shipdate\": \"6/7/2011\", \"employeeid\": 279, \"customerid\": 1045, \"subtotal\": 20565.6206, \"taxamt\": 1971.5149, \"freight\": 616.0984, \"totaldue\": 23153.2339, \"productid\": 716, \"orderqty\": 1, \"unitprice\": 28.8404, \"unitpricediscount\": 0.0000, \"linetotal\": 28.8404}\n{\"salesorderid\": 43659, \"salesorderdetailid\": 10, \"orderdate\": \"5/31/2011\", \"duedate\": \"6/12/2011\", \"shipdate\": \"6/7/2011\", \"employeeid\": 279, \"customerid\": 1045, \"subtotal\": 20565.6206, \"taxamt\": 1971.5149, \"freight\": 616.0984, \"totaldue\": 23153.2339, \"productid\": 709, \"orderqty\": 6, \"unitprice\": 5.7000, \"unitpricediscount\": 0.0000, \"linetotal\": 34.2000}\n",
					"output_type": "stream"
				}
			]
		},
		{
			"cell_type": "code",
			"source": "# join customers and orders dynamic frame\n\n# Join two dynamic frames on an equality join\ndyfjoin = dynamicFrameCustomers.join([\"customerid\"],[\"customerid\"],dynamicFrameOrders)\n\n# show top 10 rows for the joined dynamic \ndyfjoin.show(10)",
			"metadata": {
				"trusted": true
			},
			"execution_count": 12,
			"outputs": [
				{
					"name": "stdout",
					"text": "{\"freight\": 181.0019, \"subtotal\": 6035.8246, \"salesorderdetailid\": 1628, \"productid\": 754, \"linetotal\": 874.7940, \"employeeid\": 277, \".customerid\": 671, \"taxamt\": 579.2061, \"salesorderid\": 44097, \"duedate\": \"8/13/2011\", \"orderqty\": 1, \"shipdate\": \"8/8/2011\", \"lastname\": \"Chapla\", \"firstname\": \"Lee\", \"totaldue\": 6796.0326, \"unitprice\": 874.7940, \"orderdate\": \"8/1/2011\", \"unitpricediscount\": 0.0000, \"customerid\": 671, \"fullname\": \"Lee Chapla\"}\n{\"freight\": 181.0019, \"subtotal\": 6035.8246, \"salesorderdetailid\": 1629, \"productid\": 760, \"linetotal\": 419.4589, \"employeeid\": 277, \".customerid\": 671, \"taxamt\": 579.2061, \"salesorderid\": 44097, \"duedate\": \"8/13/2011\", \"orderqty\": 1, \"shipdate\": \"8/8/2011\", \"lastname\": \"Chapla\", \"firstname\": \"Lee\", \"totaldue\": 6796.0326, \"unitprice\": 419.4589, \"orderdate\": \"8/1/2011\", \"unitpricediscount\": 0.0000, \"customerid\": 671, \"fullname\": \"Lee Chapla\"}\n{\"freight\": 181.0019, \"subtotal\": 6035.8246, \"salesorderdetailid\": 1630, \"productid\": 762, \"linetotal\": 838.9178, \"employeeid\": 277, \".customerid\": 671, \"taxamt\": 579.2061, \"salesorderid\": 44097, \"duedate\": \"8/13/2011\", \"orderqty\": 2, \"shipdate\": \"8/8/2011\", \"lastname\": \"Chapla\", \"firstname\": \"Lee\", \"totaldue\": 6796.0326, \"unitprice\": 419.4589, \"orderdate\": \"8/1/2011\", \"unitpricediscount\": 0.0000, \"customerid\": 671, \"fullname\": \"Lee Chapla\"}\n{\"freight\": 181.0019, \"subtotal\": 6035.8246, \"salesorderdetailid\": 1631, \"productid\": 708, \"linetotal\": 80.7460, \"employeeid\": 277, \".customerid\": 671, \"taxamt\": 579.2061, \"salesorderid\": 44097, \"duedate\": \"8/13/2011\", \"orderqty\": 4, \"shipdate\": \"8/8/2011\", \"lastname\": \"Chapla\", \"firstname\": \"Lee\", \"totaldue\": 6796.0326, \"unitprice\": 20.1865, \"orderdate\": \"8/1/2011\", \"unitpricediscount\": 0.0000, \"customerid\": 671, \"fullname\": \"Lee Chapla\"}\n{\"freight\": 181.0019, \"subtotal\": 6035.8246, \"salesorderdetailid\": 1632, \"productid\": 715, \"linetotal\": 28.8404, \"employeeid\": 277, \".customerid\": 671, \"taxamt\": 579.2061, \"salesorderid\": 44097, \"duedate\": \"8/13/2011\", \"orderqty\": 1, \"shipdate\": \"8/8/2011\", \"lastname\": \"Chapla\", \"firstname\": \"Lee\", \"totaldue\": 6796.0326, \"unitprice\": 28.8404, \"orderdate\": \"8/1/2011\", \"unitpricediscount\": 0.0000, \"customerid\": 671, \"fullname\": \"Lee Chapla\"}\n{\"freight\": 181.0019, \"subtotal\": 6035.8246, \"salesorderdetailid\": 1633, \"productid\": 711, \"linetotal\": 80.7460, \"employeeid\": 277, \".customerid\": 671, \"taxamt\": 579.2061, \"salesorderid\": 44097, \"duedate\": \"8/13/2011\", \"orderqty\": 4, \"shipdate\": \"8/8/2011\", \"lastname\": \"Chapla\", \"firstname\": \"Lee\", \"totaldue\": 6796.0326, \"unitprice\": 20.1865, \"orderdate\": \"8/1/2011\", \"unitpricediscount\": 0.0000, \"customerid\": 671, \"fullname\": \"Lee Chapla\"}\n{\"freight\": 181.0019, \"subtotal\": 6035.8246, \"salesorderdetailid\": 1634, \"productid\": 761, \"linetotal\": 419.4589, \"employeeid\": 277, \".customerid\": 671, \"taxamt\": 579.2061, \"salesorderid\": 44097, \"duedate\": \"8/13/2011\", \"orderqty\": 1, \"shipdate\": \"8/8/2011\", \"lastname\": \"Chapla\", \"firstname\": \"Lee\", \"totaldue\": 6796.0326, \"unitprice\": 419.4589, \"orderdate\": \"8/1/2011\", \"unitpricediscount\": 0.0000, \"customerid\": 671, \"fullname\": \"Lee Chapla\"}\n{\"freight\": 181.0019, \"subtotal\": 6035.8246, \"salesorderdetailid\": 1635, \"productid\": 770, \"linetotal\": 419.4589, \"employeeid\": 277, \".customerid\": 671, \"taxamt\": 579.2061, \"salesorderid\": 44097, \"duedate\": \"8/13/2011\", \"orderqty\": 1, \"shipdate\": \"8/8/2011\", \"lastname\": \"Chapla\", \"firstname\": \"Lee\", \"totaldue\": 6796.0326, \"unitprice\": 419.4589, \"orderdate\": \"8/1/2011\", \"unitpricediscount\": 0.0000, \"customerid\": 671, \"fullname\": \"Lee Chapla\"}\n{\"freight\": 181.0019, \"subtotal\": 6035.8246, \"salesorderdetailid\": 1636, \"productid\": 758, \"linetotal\": 1749.5880, \"employeeid\": 277, \".customerid\": 671, \"taxamt\": 579.2061, \"salesorderid\": 44097, \"duedate\": \"8/13/2011\", \"orderqty\": 2, \"shipdate\": \"8/8/2011\", \"lastname\": \"Chapla\", \"firstname\": \"Lee\", \"totaldue\": 6796.0326, \"unitprice\": 874.7940, \"orderdate\": \"8/1/2011\", \"unitpricediscount\": 0.0000, \"customerid\": 671, \"fullname\": \"Lee Chapla\"}\n{\"freight\": 181.0019, \"subtotal\": 6035.8246, \"salesorderdetailid\": 1637, \"productid\": 725, \"linetotal\": 735.7528, \"employeeid\": 277, \".customerid\": 671, \"taxamt\": 579.2061, \"salesorderid\": 44097, \"duedate\": \"8/13/2011\", \"orderqty\": 4, \"shipdate\": \"8/8/2011\", \"lastname\": \"Chapla\", \"firstname\": \"Lee\", \"totaldue\": 6796.0326, \"unitprice\": 183.9382, \"orderdate\": \"8/1/2011\", \"unitpricediscount\": 0.0000, \"customerid\": 671, \"fullname\": \"Lee Chapla\"}\n",
					"output_type": "stream"
				}
			]
		},
		{
			"cell_type": "code",
			"source": "# 12. Write Down Data from a Dynamic Frame To S3\n\n# Create a folder in the S3 bucket created by Cloudformation to use as a location \n# to write the data down to write_down_dyf_to_s3\n# Write down data to S3 using the dynamic DataFrame writer class for an S3 path.\n# write down the data in a Dynamic Frame to S3 location. \nglueContext.write_dynamic_frame.from_options(\n                        frame = dynamicFrameCustomers,\n                        connection_type=\"s3\", \n                        connection_options = {\"path\": \"s3://gavxro-pyspark-tutorial/write_down_dyf_to_s3\"}, \n                        format = \"csv\", \n                        format_options={\n                            \"separator\": \",\"\n                            },\n                        transformation_ctx = \"datasink2\")",
			"metadata": {
				"trusted": true
			},
			"execution_count": 13,
			"outputs": [
				{
					"name": "stdout",
					"text": "<awsglue.dynamicframe.DynamicFrame object at 0x7f2a85707c10>\n",
					"output_type": "stream"
				}
			]
		},
		{
			"cell_type": "code",
			"source": "# 13. Write Down Data from a Dynamic Frame using Glue Data Catalog\n\n# write data from the dynamicFrameCustomers to customers_write_dyf table using the meta data stored in the glue data catalog \nglueContext.write_dynamic_frame.from_catalog(\n    frame=dynamicFrameCustomers,\n    database = \"pyspark_tutorial_db\",  \n    table_name = \"customers_write_dyf\"\n)\n",
			"metadata": {
				"trusted": true
			},
			"execution_count": 14,
			"outputs": [
				{
					"name": "stdout",
					"text": "<awsglue.dynamicframe.DynamicFrame object at 0x7f2a85707250>\n",
					"output_type": "stream"
				}
			]
		},
		{
			"cell_type": "code",
			"source": "# 14. Convert from Dynamic Frame To Spark DataFrame\n\n# Dynamic Frame to Spark DataFrame \nsparkDf = dynamicFrameCustomers.toDF()\n\n#show spark DF\nsparkDf.show()\n",
			"metadata": {
				"trusted": true
			},
			"execution_count": 15,
			"outputs": [
				{
					"name": "stdout",
					"text": "+----------+----------+-----------+--------------------+\n|customerid| firstname|   lastname|            fullname|\n+----------+----------+-----------+--------------------+\n|       293| Catherine|       Abel|      Catherine Abel|\n|       295|       Kim|Abercrombie|     Kim Abercrombie|\n|       297|  Humberto|    Acevedo|    Humberto Acevedo|\n|       291|   Gustavo|     Achong|      Gustavo Achong|\n|       299|     Pilar|   Ackerman|      Pilar Ackerman|\n|       305|     Carla|      Adams|         Carla Adams|\n|       301|   Frances|      Adams|       Frances Adams|\n|       307|       Jay|      Adams|           Jay Adams|\n|       309|    Ronald|      Adina|        Ronald Adina|\n|       311|    Samuel|   Agcaoili|     Samuel Agcaoili|\n|       313|     James|    Aguilar|       James Aguilar|\n|       315|    Robert|   Ahlering|     Robert Ahlering|\n|       319|       Kim|      Akers|           Kim Akers|\n|       441|   Stanley|       Alan|        Stanley Alan|\n|       323|       Amy|    Alberts|         Amy Alberts|\n|       325|      Anna|   Albright|       Anna Albright|\n|       327|    Milton|     Albury|       Milton Albury|\n|       329|      Paul|     Alcorn|         Paul Alcorn|\n|       331|   Gregory|   Alderson|    Gregory Alderson|\n|       333|J. Phillip|  Alexander|J. Phillip Alexander|\n+----------+----------+-----------+--------------------+\nonly showing top 20 rows\n",
					"output_type": "stream"
				}
			]
		},
		{
			"cell_type": "code",
			"source": "# Selecting Columns In a Spark DataFrame\n\n# Select columns from spark dataframe\ndfSelect = sparkDf.select(\"customerid\",\"fullname\")\n\n# show selected\ndfSelect.show()",
			"metadata": {
				"trusted": true
			},
			"execution_count": 16,
			"outputs": [
				{
					"name": "stdout",
					"text": "+----------+--------------------+\n|customerid|            fullname|\n+----------+--------------------+\n|       293|      Catherine Abel|\n|       295|     Kim Abercrombie|\n|       297|    Humberto Acevedo|\n|       291|      Gustavo Achong|\n|       299|      Pilar Ackerman|\n|       305|         Carla Adams|\n|       301|       Frances Adams|\n|       307|           Jay Adams|\n|       309|        Ronald Adina|\n|       311|     Samuel Agcaoili|\n|       313|       James Aguilar|\n|       315|     Robert Ahlering|\n|       319|           Kim Akers|\n|       441|        Stanley Alan|\n|       323|         Amy Alberts|\n|       325|       Anna Albright|\n|       327|       Milton Albury|\n|       329|         Paul Alcorn|\n|       331|    Gregory Alderson|\n|       333|J. Phillip Alexander|\n+----------+--------------------+\nonly showing top 20 rows\n",
					"output_type": "stream"
				}
			]
		},
		{
			"cell_type": "code",
			"source": "# 16. Add Columns In A Spark Dataframe\n\n# creating a new column with a literal string\n#import lit from sql functions \nfrom  pyspark.sql.functions import lit\n\n# Add new column to spark dataframe\ndfNewColumn = sparkDf.withColumn(\"date\", lit(\"2023-07-12\"))\n\n# show df with new column\ndfNewColumn.show()",
			"metadata": {
				"trusted": true
			},
			"execution_count": 17,
			"outputs": [
				{
					"name": "stdout",
					"text": "+----------+----------+-----------+--------------------+----------+\n|customerid| firstname|   lastname|            fullname|      date|\n+----------+----------+-----------+--------------------+----------+\n|       293| Catherine|       Abel|      Catherine Abel|2023-07-12|\n|       295|       Kim|Abercrombie|     Kim Abercrombie|2023-07-12|\n|       297|  Humberto|    Acevedo|    Humberto Acevedo|2023-07-12|\n|       291|   Gustavo|     Achong|      Gustavo Achong|2023-07-12|\n|       299|     Pilar|   Ackerman|      Pilar Ackerman|2023-07-12|\n|       305|     Carla|      Adams|         Carla Adams|2023-07-12|\n|       301|   Frances|      Adams|       Frances Adams|2023-07-12|\n|       307|       Jay|      Adams|           Jay Adams|2023-07-12|\n|       309|    Ronald|      Adina|        Ronald Adina|2023-07-12|\n|       311|    Samuel|   Agcaoili|     Samuel Agcaoili|2023-07-12|\n|       313|     James|    Aguilar|       James Aguilar|2023-07-12|\n|       315|    Robert|   Ahlering|     Robert Ahlering|2023-07-12|\n|       319|       Kim|      Akers|           Kim Akers|2023-07-12|\n|       441|   Stanley|       Alan|        Stanley Alan|2023-07-12|\n|       323|       Amy|    Alberts|         Amy Alberts|2023-07-12|\n|       325|      Anna|   Albright|       Anna Albright|2023-07-12|\n|       327|    Milton|     Albury|       Milton Albury|2023-07-12|\n|       329|      Paul|     Alcorn|         Paul Alcorn|2023-07-12|\n|       331|   Gregory|   Alderson|    Gregory Alderson|2023-07-12|\n|       333|J. Phillip|  Alexander|J. Phillip Alexander|2023-07-12|\n+----------+----------+-----------+--------------------+----------+\nonly showing top 20 rows\n",
					"output_type": "stream"
				}
			]
		},
		{
			"cell_type": "code",
			"source": "# Using concat to concatenate two columns together\n\n#import concat from functions \nfrom  pyspark.sql.functions import concat\n\n# create another full name column\ndfNewFullName = sparkDf.withColumn(\"new_full_name\",concat(\"firstname\",concat(lit(' '),\"lastname\")))\n\n#show full name column \ndfNewFullName.show()",
			"metadata": {
				"trusted": true
			},
			"execution_count": 18,
			"outputs": [
				{
					"name": "stdout",
					"text": "+----------+----------+-----------+--------------------+--------------------+\n|customerid| firstname|   lastname|            fullname|       new_full_name|\n+----------+----------+-----------+--------------------+--------------------+\n|       293| Catherine|       Abel|      Catherine Abel|      Catherine Abel|\n|       295|       Kim|Abercrombie|     Kim Abercrombie|     Kim Abercrombie|\n|       297|  Humberto|    Acevedo|    Humberto Acevedo|    Humberto Acevedo|\n|       291|   Gustavo|     Achong|      Gustavo Achong|      Gustavo Achong|\n|       299|     Pilar|   Ackerman|      Pilar Ackerman|      Pilar Ackerman|\n|       305|     Carla|      Adams|         Carla Adams|         Carla Adams|\n|       301|   Frances|      Adams|       Frances Adams|       Frances Adams|\n|       307|       Jay|      Adams|           Jay Adams|           Jay Adams|\n|       309|    Ronald|      Adina|        Ronald Adina|        Ronald Adina|\n|       311|    Samuel|   Agcaoili|     Samuel Agcaoili|     Samuel Agcaoili|\n|       313|     James|    Aguilar|       James Aguilar|       James Aguilar|\n|       315|    Robert|   Ahlering|     Robert Ahlering|     Robert Ahlering|\n|       319|       Kim|      Akers|           Kim Akers|           Kim Akers|\n|       441|   Stanley|       Alan|        Stanley Alan|        Stanley Alan|\n|       323|       Amy|    Alberts|         Amy Alberts|         Amy Alberts|\n|       325|      Anna|   Albright|       Anna Albright|       Anna Albright|\n|       327|    Milton|     Albury|       Milton Albury|       Milton Albury|\n|       329|      Paul|     Alcorn|         Paul Alcorn|         Paul Alcorn|\n|       331|   Gregory|   Alderson|    Gregory Alderson|    Gregory Alderson|\n|       333|J. Phillip|  Alexander|J. Phillip Alexander|J. Phillip Alexander|\n+----------+----------+-----------+--------------------+--------------------+\nonly showing top 20 rows\n",
					"output_type": "stream"
				}
			]
		},
		{
			"cell_type": "code",
			"source": "# 19. Dropping Columns\n\n# Drop column from spark dataframe\ndfDropCol = sparkDf.drop(\"firstname\",\"lastname\")\n\n#show dropped column df\ndfDropCol.show()",
			"metadata": {
				"trusted": true
			},
			"execution_count": 19,
			"outputs": [
				{
					"name": "stdout",
					"text": "+----------+--------------------+\n|customerid|            fullname|\n+----------+--------------------+\n|       293|      Catherine Abel|\n|       295|     Kim Abercrombie|\n|       297|    Humberto Acevedo|\n|       291|      Gustavo Achong|\n|       299|      Pilar Ackerman|\n|       305|         Carla Adams|\n|       301|       Frances Adams|\n|       307|           Jay Adams|\n|       309|        Ronald Adina|\n|       311|     Samuel Agcaoili|\n|       313|       James Aguilar|\n|       315|     Robert Ahlering|\n|       319|           Kim Akers|\n|       441|        Stanley Alan|\n|       323|         Amy Alberts|\n|       325|       Anna Albright|\n|       327|       Milton Albury|\n|       329|         Paul Alcorn|\n|       331|    Gregory Alderson|\n|       333|J. Phillip Alexander|\n+----------+--------------------+\nonly showing top 20 rows\n",
					"output_type": "stream"
				}
			]
		},
		{
			"cell_type": "code",
			"source": "# 20. Renaming columns\n\n# Rename column in Spark dataframe\ndfRenameCol = sparkDf.withColumnRenamed(\"fullname\",\"full_name\")\n\n#show renamed column dataframe\ndfRenameCol.show()",
			"metadata": {
				"trusted": true
			},
			"execution_count": 20,
			"outputs": [
				{
					"name": "stdout",
					"text": "+----------+----------+-----------+--------------------+\n|customerid| firstname|   lastname|           full_name|\n+----------+----------+-----------+--------------------+\n|       293| Catherine|       Abel|      Catherine Abel|\n|       295|       Kim|Abercrombie|     Kim Abercrombie|\n|       297|  Humberto|    Acevedo|    Humberto Acevedo|\n|       291|   Gustavo|     Achong|      Gustavo Achong|\n|       299|     Pilar|   Ackerman|      Pilar Ackerman|\n|       305|     Carla|      Adams|         Carla Adams|\n|       301|   Frances|      Adams|       Frances Adams|\n|       307|       Jay|      Adams|           Jay Adams|\n|       309|    Ronald|      Adina|        Ronald Adina|\n|       311|    Samuel|   Agcaoili|     Samuel Agcaoili|\n|       313|     James|    Aguilar|       James Aguilar|\n|       315|    Robert|   Ahlering|     Robert Ahlering|\n|       319|       Kim|      Akers|           Kim Akers|\n|       441|   Stanley|       Alan|        Stanley Alan|\n|       323|       Amy|    Alberts|         Amy Alberts|\n|       325|      Anna|   Albright|       Anna Albright|\n|       327|    Milton|     Albury|       Milton Albury|\n|       329|      Paul|     Alcorn|         Paul Alcorn|\n|       331|   Gregory|   Alderson|    Gregory Alderson|\n|       333|J. Phillip|  Alexander|J. Phillip Alexander|\n+----------+----------+-----------+--------------------+\nonly showing top 20 rows\n",
					"output_type": "stream"
				}
			]
		},
		{
			"cell_type": "code",
			"source": "# 21. GroupBy and Aggregate Operations\n\n# Group by lastname then print counts of lastname and show\nsparkDf.groupBy(\"lastname\").count().show()",
			"metadata": {
				"trusted": true
			},
			"execution_count": 21,
			"outputs": [
				{
					"name": "stdout",
					"text": "+--------+-----+\n|lastname|count|\n+--------+-----+\n|  Achong|    1|\n|  Bailey|    1|\n|   Caron|    1|\n|   Casts|    1|\n|   Curry|    1|\n| Desalvo|    1|\n| Dockter|    1|\n|    Dyck|    1|\n|  Farino|    1|\n| Fluegel|    1|\n|   Ganio|    1|\n|   Gimmi|    1|\n|Gonzales|    2|\n|   Graff|    1|\n|   Groth|    1|\n|    Hass|    1|\n| Hassall|    1|\n|Hillmann|    1|\n| Hodgson|    1|\n|   Ihrig|    1|\n+--------+-----+\nonly showing top 20 rows\n",
					"output_type": "stream"
				}
			]
		},
		{
			"cell_type": "code",
			"source": "# 22. Filtering Columns and Where clauses\n\n# Filter the spark dataframe\n# Filter spark DataFrame for customers who have the last name Adams\nsparkDf.filter(sparkDf[\"lastname\"] == \"Adams\").show()",
			"metadata": {
				"trusted": true
			},
			"execution_count": 22,
			"outputs": [
				{
					"name": "stdout",
					"text": "+----------+---------+--------+-------------+\n|customerid|firstname|lastname|     fullname|\n+----------+---------+--------+-------------+\n|       305|    Carla|   Adams|  Carla Adams|\n|       301|  Frances|   Adams|Frances Adams|\n|       307|      Jay|   Adams|    Jay Adams|\n+----------+---------+--------+-------------+\n",
					"output_type": "stream"
				}
			]
		},
		{
			"cell_type": "code",
			"source": "# Where clause\n# Where clause spark DataFrame for customers who have the last name Adams\nsparkDf.where(\"lastname =='Adams'\").show()",
			"metadata": {
				"trusted": true
			},
			"execution_count": 23,
			"outputs": [
				{
					"name": "stdout",
					"text": "+----------+---------+--------+-------------+\n|customerid|firstname|lastname|     fullname|\n+----------+---------+--------+-------------+\n|       305|    Carla|   Adams|  Carla Adams|\n|       301|  Frances|   Adams|Frances Adams|\n|       307|      Jay|   Adams|    Jay Adams|\n+----------+---------+--------+-------------+\n",
					"output_type": "stream"
				}
			]
		},
		{
			"cell_type": "code",
			"source": "# 23. Joins\n# Read from the customers table in the glue data catalog using a dynamic frame and convert to spark dataframe\ndfOrders = glueContext.create_dynamic_frame.from_catalog(\n                                        database = \"pyspark_tutorial_db\", \n                                        table_name = \"orders\"\n                                    ).toDF()",
			"metadata": {
				"trusted": true
			},
			"execution_count": 25,
			"outputs": [
				{
					"name": "stdout",
					"text": "\n",
					"output_type": "stream"
				}
			]
		},
		{
			"cell_type": "code",
			"source": "# Inner join for Spark Dataframe All Data\n# Inner Join Customers Spark DF to Orders Spark DF\nsparkDf.join(dfOrders,sparkDf.customerid ==  dfOrders.customerid,\"inner\").show(truncate=False)",
			"metadata": {
				"trusted": true
			},
			"execution_count": 26,
			"outputs": [
				{
					"name": "stdout",
					"text": "+----------+---------+--------+--------------+------------+------------------+---------+---------+--------+----------+----------+----------+---------+--------+----------+---------+--------+---------+-----------------+---------+\n|customerid|firstname|lastname|fullname      |salesorderid|salesorderdetailid|orderdate|duedate  |shipdate|employeeid|customerid|subtotal  |taxamt   |freight |totaldue  |productid|orderqty|unitprice|unitpricediscount|linetotal|\n+----------+---------+--------+--------------+------------+------------------+---------+---------+--------+----------+----------+----------+---------+--------+----------+---------+--------+---------+-----------------+---------+\n|517       |Richard  |Bready  |Richard Bready|43665       |61                |5/31/2011|6/12/2011|6/7/2011|283       |517       |14352.7713|1375.9427|429.9821|16158.6961|711      |2       |20.1865  |0.0000           |40.3730  |\n|517       |Richard  |Bready  |Richard Bready|43665       |62                |5/31/2011|6/12/2011|6/7/2011|283       |517       |14352.7713|1375.9427|429.9821|16158.6961|773      |1       |2039.9940|0.0000           |2039.9940|\n|517       |Richard  |Bready  |Richard Bready|43665       |63                |5/31/2011|6/12/2011|6/7/2011|283       |517       |14352.7713|1375.9427|429.9821|16158.6961|707      |1       |20.1865  |0.0000           |20.1865  |\n|517       |Richard  |Bready  |Richard Bready|43665       |64                |5/31/2011|6/12/2011|6/7/2011|283       |517       |14352.7713|1375.9427|429.9821|16158.6961|715      |2       |28.8404  |0.0000           |57.6808  |\n|517       |Richard  |Bready  |Richard Bready|43665       |65                |5/31/2011|6/12/2011|6/7/2011|283       |517       |14352.7713|1375.9427|429.9821|16158.6961|777      |2       |2024.9940|0.0000           |4049.9880|\n|517       |Richard  |Bready  |Richard Bready|43665       |66                |5/31/2011|6/12/2011|6/7/2011|283       |517       |14352.7713|1375.9427|429.9821|16158.6961|712      |2       |5.1865   |0.0000           |10.3730  |\n|517       |Richard  |Bready  |Richard Bready|43665       |67                |5/31/2011|6/12/2011|6/7/2011|283       |517       |14352.7713|1375.9427|429.9821|16158.6961|775      |2       |2024.9940|0.0000           |4049.9880|\n|517       |Richard  |Bready  |Richard Bready|43665       |68                |5/31/2011|6/12/2011|6/7/2011|283       |517       |14352.7713|1375.9427|429.9821|16158.6961|778      |1       |2024.9940|0.0000           |2024.9940|\n|517       |Richard  |Bready  |Richard Bready|43665       |69                |5/31/2011|6/12/2011|6/7/2011|283       |517       |14352.7713|1375.9427|429.9821|16158.6961|709      |6       |5.7000   |0.0000           |34.2000  |\n|517       |Richard  |Bready  |Richard Bready|43665       |70                |5/31/2011|6/12/2011|6/7/2011|283       |517       |14352.7713|1375.9427|429.9821|16158.6961|776      |1       |2024.9940|0.0000           |2024.9940|\n|1405      |Steve    |Masters |Steve Masters |43854       |576               |7/1/2011 |7/13/2011|7/8/2011|282       |1405      |1749.5880 |167.9604 |52.4876 |1970.0360 |758      |2       |874.7940 |0.0000           |1749.5880|\n|1133      |Lucio    |Iallo   |Lucio Iallo   |43859       |619               |7/1/2011 |7/13/2011|7/8/2011|276       |1133      |3911.5991 |375.2443 |117.2639|4404.1073 |715      |1       |28.8404  |0.0000           |28.8404  |\n|1133      |Lucio    |Iallo   |Lucio Iallo   |43859       |620               |7/1/2011 |7/13/2011|7/8/2011|276       |1133      |3911.5991 |375.2443 |117.2639|4404.1073 |762      |1       |419.4589 |0.0000           |419.4589 |\n|1133      |Lucio    |Iallo   |Lucio Iallo   |43859       |621               |7/1/2011 |7/13/2011|7/8/2011|276       |1133      |3911.5991 |375.2443 |117.2639|4404.1073 |758      |3       |874.7940 |0.0000           |2624.3820|\n|1133      |Lucio    |Iallo   |Lucio Iallo   |43859       |622               |7/1/2011 |7/13/2011|7/8/2011|276       |1133      |3911.5991 |375.2443 |117.2639|4404.1073 |760      |2       |419.4589 |0.0000           |838.9178 |\n|1935      |Lynn     |Tsoflias|Lynn Tsoflias |43876       |815               |7/1/2011 |7/13/2011|7/8/2011|275       |1935      |7135.2649 |686.9474 |214.6711|8036.8834 |762      |2       |419.4589 |0.0000           |838.9178 |\n|1935      |Lynn     |Tsoflias|Lynn Tsoflias |43876       |816               |7/1/2011 |7/13/2011|7/8/2011|275       |1935      |7135.2649 |686.9474 |214.6711|8036.8834 |758      |1       |874.7940 |0.0000           |874.7940 |\n|1935      |Lynn     |Tsoflias|Lynn Tsoflias |43876       |817               |7/1/2011 |7/13/2011|7/8/2011|275       |1935      |7135.2649 |686.9474 |214.6711|8036.8834 |763      |3       |419.4589 |0.0000           |1258.3767|\n|1935      |Lynn     |Tsoflias|Lynn Tsoflias |43876       |818               |7/1/2011 |7/13/2011|7/8/2011|275       |1935      |7135.2649 |686.9474 |214.6711|8036.8834 |754      |2       |874.7940 |0.0000           |1749.5880|\n|1935      |Lynn     |Tsoflias|Lynn Tsoflias |43876       |819               |7/1/2011 |7/13/2011|7/8/2011|275       |1935      |7135.2649 |686.9474 |214.6711|8036.8834 |725      |2       |183.9382 |0.0000           |367.8764 |\n+----------+---------+--------+--------------+------------+------------------+---------+---------+--------+----------+----------+----------+---------+--------+----------+---------+--------+---------+-----------------+---------+\nonly showing top 20 rows\n",
					"output_type": "stream"
				}
			]
		},
		{
			"cell_type": "code",
			"source": "# Inner Join Adams only\n\n#Get customers that only have surname Adams\ndfAdams = sparkDf.where(\"lastname =='Adams'\")\n\n# inner join on Adams DF and orders\ndfAdams.join(dfOrders,dfAdams.customerid ==  dfOrders.customerid,\"inner\").show()",
			"metadata": {
				"trusted": true
			},
			"execution_count": 27,
			"outputs": [
				{
					"name": "stdout",
					"text": "+----------+---------+--------+---------+------------+------------------+----------+----------+---------+----------+----------+----------+---------+---------+----------+---------+--------+---------+-----------------+---------+\n|customerid|firstname|lastname| fullname|salesorderid|salesorderdetailid| orderdate|   duedate| shipdate|employeeid|customerid|  subtotal|   taxamt|  freight|  totaldue|productid|orderqty|unitprice|unitpricediscount|linetotal|\n+----------+---------+--------+---------+------------+------------------+----------+----------+---------+----------+----------+----------+---------+---------+----------+---------+--------+---------+-----------------+---------+\n|       307|      Jay|   Adams|Jay Adams|       48382|             23857|10/30/2012|11/11/2012|11/6/2012|       277|       307|   20.5200|   2.0246|   0.6327|   23.1773|      805|       1|  20.5200|           0.0000|  20.5200|\n|       307|      Jay|   Adams|Jay Adams|       50734|             34874| 4/30/2013| 5/12/2013| 5/7/2013|       275|       307| 2232.8181| 220.3047|  68.8452| 2521.9680|      739|       3| 744.2727|           0.0000|2232.8181|\n|       307|      Jay|   Adams|Jay Adams|       53561|             49267| 7/31/2013| 8/12/2013| 8/7/2013|       275|       307|48717.0900|4705.2935|1470.4042|54892.7877|      952|       6|  12.1440|           0.0000|  72.8640|\n|       307|      Jay|   Adams|Jay Adams|       53561|             49268| 7/31/2013| 8/12/2013| 8/7/2013|       275|       307|48717.0900|4705.2935|1470.4042|54892.7877|      739|       1| 818.7000|           0.0000| 818.7000|\n|       307|      Jay|   Adams|Jay Adams|       53561|             49269| 7/31/2013| 8/12/2013| 8/7/2013|       275|       307|48717.0900|4705.2935|1470.4042|54892.7877|      985|       4| 338.9940|           0.0000|1355.9760|\n|       307|      Jay|   Adams|Jay Adams|       53561|             49270| 7/31/2013| 8/12/2013| 8/7/2013|       275|       307|48717.0900|4705.2935|1470.4042|54892.7877|      981|       4| 461.6940|           0.0000|1846.7760|\n|       307|      Jay|   Adams|Jay Adams|       53561|             49271| 7/31/2013| 8/12/2013| 8/7/2013|       275|       307|48717.0900|4705.2935|1470.4042|54892.7877|      919|       1| 158.4300|           0.0000| 158.4300|\n|       307|      Jay|   Adams|Jay Adams|       53561|             49272| 7/31/2013| 8/12/2013| 8/7/2013|       275|       307|48717.0900|4705.2935|1470.4042|54892.7877|      747|       1| 809.7600|           0.0000| 809.7600|\n|       307|      Jay|   Adams|Jay Adams|       53561|             49273| 7/31/2013| 8/12/2013| 8/7/2013|       275|       307|48717.0900|4705.2935|1470.4042|54892.7877|      945|       4|  54.8940|           0.0000| 219.5760|\n|       307|      Jay|   Adams|Jay Adams|       53561|             49274| 7/31/2013| 8/12/2013| 8/7/2013|       275|       307|48717.0900|4705.2935|1470.4042|54892.7877|      926|       1| 149.8740|           0.0000| 149.8740|\n|       307|      Jay|   Adams|Jay Adams|       53561|             49275| 7/31/2013| 8/12/2013| 8/7/2013|       275|       307|48717.0900|4705.2935|1470.4042|54892.7877|      781|       3|1391.9940|           0.0000|4175.9820|\n|       307|      Jay|   Adams|Jay Adams|       53561|             49276| 7/31/2013| 8/12/2013| 8/7/2013|       275|       307|48717.0900|4705.2935|1470.4042|54892.7877|      867|       6|  41.9940|           0.0000| 251.9640|\n|       307|      Jay|   Adams|Jay Adams|       53561|             49277| 7/31/2013| 8/12/2013| 8/7/2013|       275|       307|48717.0900|4705.2935|1470.4042|54892.7877|      742|       1| 818.7000|           0.0000| 818.7000|\n|       307|      Jay|   Adams|Jay Adams|       53561|             49278| 7/31/2013| 8/12/2013| 8/7/2013|       275|       307|48717.0900|4705.2935|1470.4042|54892.7877|      994|       2|  32.3940|           0.0000|  64.7880|\n|       307|      Jay|   Adams|Jay Adams|       53561|             49279| 7/31/2013| 8/12/2013| 8/7/2013|       275|       307|48717.0900|4705.2935|1470.4042|54892.7877|      920|       3| 158.4300|           0.0000| 475.2900|\n|       307|      Jay|   Adams|Jay Adams|       53561|             49280| 7/31/2013| 8/12/2013| 8/7/2013|       275|       307|48717.0900|4705.2935|1470.4042|54892.7877|      984|       1| 338.9940|           0.0000| 338.9940|\n|       307|      Jay|   Adams|Jay Adams|       53561|             49281| 7/31/2013| 8/12/2013| 8/7/2013|       275|       307|48717.0900|4705.2935|1470.4042|54892.7877|      925|       9| 149.8740|           0.0000|1348.8660|\n|       307|      Jay|   Adams|Jay Adams|       53561|             49282| 7/31/2013| 8/12/2013| 8/7/2013|       275|       307|48717.0900|4705.2935|1470.4042|54892.7877|      918|       2| 158.4300|           0.0000| 316.8600|\n|       307|      Jay|   Adams|Jay Adams|       53561|             49283| 7/31/2013| 8/12/2013| 8/7/2013|       275|       307|48717.0900|4705.2935|1470.4042|54892.7877|      784|       5|1376.9940|           0.0000|6884.9700|\n|       307|      Jay|   Adams|Jay Adams|       53561|             49284| 7/31/2013| 8/12/2013| 8/7/2013|       275|       307|48717.0900|4705.2935|1470.4042|54892.7877|      950|       2| 153.8940|           0.0000| 307.7880|\n+----------+---------+--------+---------+------------+------------------+----------+----------+---------+----------+----------+----------+---------+---------+----------+---------+--------+---------+-----------------+---------+\nonly showing top 20 rows\n",
					"output_type": "stream"
				}
			]
		},
		{
			"cell_type": "code",
			"source": "# Left Join\n\n#left join on orders and adams df\ndfOrders.join(dfAdams,dfAdams.customerid ==  dfOrders.customerid,\"left\").show(100)\n",
			"metadata": {
				"trusted": true
			},
			"execution_count": 28,
			"outputs": [
				{
					"name": "stdout",
					"text": "+------------+------------------+----------+----------+---------+----------+----------+----------+---------+---------+----------+---------+--------+---------+-----------------+----------+----------+---------+--------+--------+\n|salesorderid|salesorderdetailid| orderdate|   duedate| shipdate|employeeid|customerid|  subtotal|   taxamt|  freight|  totaldue|productid|orderqty|unitprice|unitpricediscount| linetotal|customerid|firstname|lastname|fullname|\n+------------+------------------+----------+----------+---------+----------+----------+----------+---------+---------+----------+---------+--------+---------+-----------------+----------+----------+---------+--------+--------+\n|       44110|              1732|  8/1/2011| 8/13/2011| 8/8/2011|       277|       295|16667.3077|1600.6864| 500.2145|18768.2086|      765|       2| 419.4589|           0.0000|  838.9178|      null|     null|    null|    null|\n|       44110|              1733|  8/1/2011| 8/13/2011| 8/8/2011|       277|       295|16667.3077|1600.6864| 500.2145|18768.2086|      729|       4| 183.9382|           0.0000|  735.7528|      null|     null|    null|    null|\n|       44110|              1734|  8/1/2011| 8/13/2011| 8/8/2011|       277|       295|16667.3077|1600.6864| 500.2145|18768.2086|      714|       1|  28.8404|           0.0000|   28.8404|      null|     null|    null|    null|\n|       44110|              1735|  8/1/2011| 8/13/2011| 8/8/2011|       277|       295|16667.3077|1600.6864| 500.2145|18768.2086|      715|       5|  28.8404|           0.0000|  144.2020|      null|     null|    null|    null|\n|       44110|              1736|  8/1/2011| 8/13/2011| 8/8/2011|       277|       295|16667.3077|1600.6864| 500.2145|18768.2086|      760|       3| 419.4589|           0.0000| 1258.3767|      null|     null|    null|    null|\n|       44110|              1737|  8/1/2011| 8/13/2011| 8/8/2011|       277|       295|16667.3077|1600.6864| 500.2145|18768.2086|      770|       2| 419.4589|           0.0000|  838.9178|      null|     null|    null|    null|\n|       44110|              1738|  8/1/2011| 8/13/2011| 8/8/2011|       277|       295|16667.3077|1600.6864| 500.2145|18768.2086|      762|       5| 419.4589|           0.0000| 2097.2945|      null|     null|    null|    null|\n|       44110|              1739|  8/1/2011| 8/13/2011| 8/8/2011|       277|       295|16667.3077|1600.6864| 500.2145|18768.2086|      758|       1| 874.7940|           0.0000|  874.7940|      null|     null|    null|    null|\n|       44110|              1740|  8/1/2011| 8/13/2011| 8/8/2011|       277|       295|16667.3077|1600.6864| 500.2145|18768.2086|      711|       1|  20.1865|           0.0000|   20.1865|      null|     null|    null|    null|\n|       44110|              1741|  8/1/2011| 8/13/2011| 8/8/2011|       277|       295|16667.3077|1600.6864| 500.2145|18768.2086|      716|       2|  28.8404|           0.0000|   57.6808|      null|     null|    null|    null|\n|       44110|              1742|  8/1/2011| 8/13/2011| 8/8/2011|       277|       295|16667.3077|1600.6864| 500.2145|18768.2086|      708|       5|  20.1865|           0.0000|  100.9325|      null|     null|    null|    null|\n|       44110|              1743|  8/1/2011| 8/13/2011| 8/8/2011|       277|       295|16667.3077|1600.6864| 500.2145|18768.2086|      738|       1| 178.5808|           0.0000|  178.5808|      null|     null|    null|    null|\n|       44110|              1744|  8/1/2011| 8/13/2011| 8/8/2011|       277|       295|16667.3077|1600.6864| 500.2145|18768.2086|      763|       3| 419.4589|           0.0000| 1258.3767|      null|     null|    null|    null|\n|       44110|              1745|  8/1/2011| 8/13/2011| 8/8/2011|       277|       295|16667.3077|1600.6864| 500.2145|18768.2086|      768|       1| 419.4589|           0.0000|  419.4589|      null|     null|    null|    null|\n|       44110|              1746|  8/1/2011| 8/13/2011| 8/8/2011|       277|       295|16667.3077|1600.6864| 500.2145|18768.2086|      756|       4| 874.7940|           0.0000| 3499.1760|      null|     null|    null|    null|\n|       44110|              1747|  8/1/2011| 8/13/2011| 8/8/2011|       277|       295|16667.3077|1600.6864| 500.2145|18768.2086|      754|       1| 874.7940|           0.0000|  874.7940|      null|     null|    null|    null|\n|       44110|              1748|  8/1/2011| 8/13/2011| 8/8/2011|       277|       295|16667.3077|1600.6864| 500.2145|18768.2086|      766|       2| 419.4589|           0.0000|  838.9178|      null|     null|    null|    null|\n|       44110|              1749|  8/1/2011| 8/13/2011| 8/8/2011|       277|       295|16667.3077|1600.6864| 500.2145|18768.2086|      761|       2| 419.4589|           0.0000|  838.9178|      null|     null|    null|    null|\n|       44110|              1750|  8/1/2011| 8/13/2011| 8/8/2011|       277|       295|16667.3077|1600.6864| 500.2145|18768.2086|      712|       3|   5.1865|           0.0000|   15.5595|      null|     null|    null|    null|\n|       44110|              1751|  8/1/2011| 8/13/2011| 8/8/2011|       277|       295|16667.3077|1600.6864| 500.2145|18768.2086|      725|       3| 183.9382|           0.0000|  551.8146|      null|     null|    null|    null|\n|       44110|              1752|  8/1/2011| 8/13/2011| 8/8/2011|       277|       295|16667.3077|1600.6864| 500.2145|18768.2086|      732|       1| 356.8980|           0.0000|  356.8980|      null|     null|    null|    null|\n|       44110|              1753|  8/1/2011| 8/13/2011| 8/8/2011|       277|       295|16667.3077|1600.6864| 500.2145|18768.2086|      764|       2| 419.4589|           0.0000|  838.9178|      null|     null|    null|    null|\n|       44772|              4526|10/31/2011|11/12/2011|11/7/2011|       277|       295|67369.2136|6473.0955|2022.8424|75865.1515|      730|       3| 183.9382|           0.0000|  551.8146|      null|     null|    null|    null|\n|       44772|              4527|10/31/2011|11/12/2011|11/7/2011|       277|       295|67369.2136|6473.0955|2022.8424|75865.1515|      766|       2| 419.4589|           0.0000|  838.9178|      null|     null|    null|    null|\n|       44772|              4528|10/31/2011|11/12/2011|11/7/2011|       277|       295|67369.2136|6473.0955|2022.8424|75865.1515|      758|       3| 874.7940|           0.0000| 2624.3820|      null|     null|    null|    null|\n|       44772|              4529|10/31/2011|11/12/2011|11/7/2011|       277|       295|67369.2136|6473.0955|2022.8424|75865.1515|      751|       2|2146.9620|           0.0000| 4293.9240|      null|     null|    null|    null|\n|       44772|              4530|10/31/2011|11/12/2011|11/7/2011|       277|       295|67369.2136|6473.0955|2022.8424|75865.1515|      749|       5|2146.9620|           0.0000|10734.8100|      null|     null|    null|    null|\n|       44772|              4531|10/31/2011|11/12/2011|11/7/2011|       277|       295|67369.2136|6473.0955|2022.8424|75865.1515|      753|       6|2146.9620|           0.0000|12881.7720|      null|     null|    null|    null|\n|       44772|              4532|10/31/2011|11/12/2011|11/7/2011|       277|       295|67369.2136|6473.0955|2022.8424|75865.1515|      765|       3| 419.4589|           0.0000| 1258.3767|      null|     null|    null|    null|\n|       44772|              4533|10/31/2011|11/12/2011|11/7/2011|       277|       295|67369.2136|6473.0955|2022.8424|75865.1515|      755|       3| 874.7940|           0.0000| 2624.3820|      null|     null|    null|    null|\n|       44772|              4534|10/31/2011|11/12/2011|11/7/2011|       277|       295|67369.2136|6473.0955|2022.8424|75865.1515|      711|       2|  20.1865|           0.0000|   40.3730|      null|     null|    null|    null|\n|       44772|              4535|10/31/2011|11/12/2011|11/7/2011|       277|       295|67369.2136|6473.0955|2022.8424|75865.1515|      759|       1| 419.4589|           0.0000|  419.4589|      null|     null|    null|    null|\n|       44772|              4536|10/31/2011|11/12/2011|11/7/2011|       277|       295|67369.2136|6473.0955|2022.8424|75865.1515|      726|       2| 183.9382|           0.0000|  367.8764|      null|     null|    null|    null|\n|       44772|              4537|10/31/2011|11/12/2011|11/7/2011|       277|       295|67369.2136|6473.0955|2022.8424|75865.1515|      732|       1| 356.8980|           0.0000|  356.8980|      null|     null|    null|    null|\n|       44772|              4538|10/31/2011|11/12/2011|11/7/2011|       277|       295|67369.2136|6473.0955|2022.8424|75865.1515|      716|       2|  28.8404|           0.0000|   57.6808|      null|     null|    null|    null|\n|       44772|              4539|10/31/2011|11/12/2011|11/7/2011|       277|       295|67369.2136|6473.0955|2022.8424|75865.1515|      770|       3| 419.4589|           0.0000| 1258.3767|      null|     null|    null|    null|\n|       44772|              4540|10/31/2011|11/12/2011|11/7/2011|       277|       295|67369.2136|6473.0955|2022.8424|75865.1515|      707|       3|  20.1865|           0.0000|   60.5595|      null|     null|    null|    null|\n|       44772|              4541|10/31/2011|11/12/2011|11/7/2011|       277|       295|67369.2136|6473.0955|2022.8424|75865.1515|      750|       1|2146.9620|           0.0000| 2146.9620|      null|     null|    null|    null|\n|       44772|              4542|10/31/2011|11/12/2011|11/7/2011|       277|       295|67369.2136|6473.0955|2022.8424|75865.1515|      738|       3| 178.5808|           0.0000|  535.7424|      null|     null|    null|    null|\n|       44772|              4543|10/31/2011|11/12/2011|11/7/2011|       277|       295|67369.2136|6473.0955|2022.8424|75865.1515|      762|       3| 419.4589|           0.0000| 1258.3767|      null|     null|    null|    null|\n|       44772|              4544|10/31/2011|11/12/2011|11/7/2011|       277|       295|67369.2136|6473.0955|2022.8424|75865.1515|      729|       3| 183.9382|           0.0000|  551.8146|      null|     null|    null|    null|\n|       44772|              4545|10/31/2011|11/12/2011|11/7/2011|       277|       295|67369.2136|6473.0955|2022.8424|75865.1515|      754|       2| 874.7940|           0.0000| 1749.5880|      null|     null|    null|    null|\n|       44772|              4546|10/31/2011|11/12/2011|11/7/2011|       277|       295|67369.2136|6473.0955|2022.8424|75865.1515|      712|       1|   5.1865|           0.0000|    5.1865|      null|     null|    null|    null|\n|       44772|              4547|10/31/2011|11/12/2011|11/7/2011|       277|       295|67369.2136|6473.0955|2022.8424|75865.1515|      708|       1|  20.1865|           0.0000|   20.1865|      null|     null|    null|    null|\n|       44772|              4548|10/31/2011|11/12/2011|11/7/2011|       277|       295|67369.2136|6473.0955|2022.8424|75865.1515|      764|       3| 419.4589|           0.0000| 1258.3767|      null|     null|    null|    null|\n|       44772|              4549|10/31/2011|11/12/2011|11/7/2011|       277|       295|67369.2136|6473.0955|2022.8424|75865.1515|      769|       1| 419.4589|           0.0000|  419.4589|      null|     null|    null|    null|\n|       44772|              4550|10/31/2011|11/12/2011|11/7/2011|       277|       295|67369.2136|6473.0955|2022.8424|75865.1515|      760|       3| 419.4589|           0.0000| 1258.3767|      null|     null|    null|    null|\n|       44772|              4551|10/31/2011|11/12/2011|11/7/2011|       277|       295|67369.2136|6473.0955|2022.8424|75865.1515|      757|       4| 874.7940|           0.0000| 3499.1760|      null|     null|    null|    null|\n|       44772|              4552|10/31/2011|11/12/2011|11/7/2011|       277|       295|67369.2136|6473.0955|2022.8424|75865.1515|      722|       3| 178.5808|           0.0000|  535.7424|      null|     null|    null|    null|\n|       44772|              4553|10/31/2011|11/12/2011|11/7/2011|       277|       295|67369.2136|6473.0955|2022.8424|75865.1515|      761|       3| 419.4589|           0.0000| 1258.3767|      null|     null|    null|    null|\n|       44772|              4554|10/31/2011|11/12/2011|11/7/2011|       277|       295|67369.2136|6473.0955|2022.8424|75865.1515|      756|       1| 874.7940|           0.0000|  874.7940|      null|     null|    null|    null|\n|       44772|              4555|10/31/2011|11/12/2011|11/7/2011|       277|       295|67369.2136|6473.0955|2022.8424|75865.1515|      752|       4|2146.9620|           0.0000| 8587.8480|      null|     null|    null|    null|\n|       44772|              4556|10/31/2011|11/12/2011|11/7/2011|       277|       295|67369.2136|6473.0955|2022.8424|75865.1515|      768|       5| 419.4589|           0.0000| 2097.2945|      null|     null|    null|    null|\n|       44772|              4557|10/31/2011|11/12/2011|11/7/2011|       277|       295|67369.2136|6473.0955|2022.8424|75865.1515|      767|       3| 419.4589|           0.0000| 1258.3767|      null|     null|    null|    null|\n|       44772|              4558|10/31/2011|11/12/2011|11/7/2011|       277|       295|67369.2136|6473.0955|2022.8424|75865.1515|      763|       3| 419.4589|           0.0000| 1258.3767|      null|     null|    null|    null|\n|       44772|              4559|10/31/2011|11/12/2011|11/7/2011|       277|       295|67369.2136|6473.0955|2022.8424|75865.1515|      725|       2| 183.9382|           0.0000|  367.8764|      null|     null|    null|    null|\n|       44772|              4560|10/31/2011|11/12/2011|11/7/2011|       277|       295|67369.2136|6473.0955|2022.8424|75865.1515|      714|       2|  28.8404|           0.0000|   57.6808|      null|     null|    null|    null|\n|       45550|              7092| 1/29/2012| 2/10/2012| 2/5/2012|       277|       295|54979.9007|5275.9397|1648.7312|61904.5716|      770|       1| 419.4589|           0.0000|  419.4589|      null|     null|    null|    null|\n|       45550|              7093| 1/29/2012| 2/10/2012| 2/5/2012|       277|       295|54979.9007|5275.9397|1648.7312|61904.5716|      755|       1| 874.7940|           0.0000|  874.7940|      null|     null|    null|    null|\n|       45550|              7094| 1/29/2012| 2/10/2012| 2/5/2012|       277|       295|54979.9007|5275.9397|1648.7312|61904.5716|      756|       1| 874.7940|           0.0000|  874.7940|      null|     null|    null|    null|\n|       45550|              7095| 1/29/2012| 2/10/2012| 2/5/2012|       277|       295|54979.9007|5275.9397|1648.7312|61904.5716|      738|       2| 178.5808|           0.0000|  357.1616|      null|     null|    null|    null|\n|       45550|              7096| 1/29/2012| 2/10/2012| 2/5/2012|       277|       295|54979.9007|5275.9397|1648.7312|61904.5716|      765|       6| 419.4589|           0.0000| 2516.7534|      null|     null|    null|    null|\n|       45550|              7097| 1/29/2012| 2/10/2012| 2/5/2012|       277|       295|54979.9007|5275.9397|1648.7312|61904.5716|      767|       1| 419.4589|           0.0000|  419.4589|      null|     null|    null|    null|\n|       45550|              7098| 1/29/2012| 2/10/2012| 2/5/2012|       277|       295|54979.9007|5275.9397|1648.7312|61904.5716|      760|       3| 419.4589|           0.0000| 1258.3767|      null|     null|    null|    null|\n|       45550|              7099| 1/29/2012| 2/10/2012| 2/5/2012|       277|       295|54979.9007|5275.9397|1648.7312|61904.5716|      711|       6|  20.1865|           0.0000|  121.1190|      null|     null|    null|    null|\n|       45550|              7100| 1/29/2012| 2/10/2012| 2/5/2012|       277|       295|54979.9007|5275.9397|1648.7312|61904.5716|      769|       2| 419.4589|           0.0000|  838.9178|      null|     null|    null|    null|\n|       45550|              7101| 1/29/2012| 2/10/2012| 2/5/2012|       277|       295|54979.9007|5275.9397|1648.7312|61904.5716|      759|       3| 419.4589|           0.0000| 1258.3767|      null|     null|    null|    null|\n|       45550|              7102| 1/29/2012| 2/10/2012| 2/5/2012|       277|       295|54979.9007|5275.9397|1648.7312|61904.5716|      752|       1|2146.9620|           0.0000| 2146.9620|      null|     null|    null|    null|\n|       45550|              7103| 1/29/2012| 2/10/2012| 2/5/2012|       277|       295|54979.9007|5275.9397|1648.7312|61904.5716|      753|       1|2146.9620|           0.0000| 2146.9620|      null|     null|    null|    null|\n|       45550|              7104| 1/29/2012| 2/10/2012| 2/5/2012|       277|       295|54979.9007|5275.9397|1648.7312|61904.5716|      763|       4| 419.4589|           0.0000| 1677.8356|      null|     null|    null|    null|\n|       45550|              7105| 1/29/2012| 2/10/2012| 2/5/2012|       277|       295|54979.9007|5275.9397|1648.7312|61904.5716|      749|       1|2146.9620|           0.0000| 2146.9620|      null|     null|    null|    null|\n|       45550|              7106| 1/29/2012| 2/10/2012| 2/5/2012|       277|       295|54979.9007|5275.9397|1648.7312|61904.5716|      768|       3| 419.4589|           0.0000| 1258.3767|      null|     null|    null|    null|\n|       45550|              7107| 1/29/2012| 2/10/2012| 2/5/2012|       277|       295|54979.9007|5275.9397|1648.7312|61904.5716|      762|       1| 419.4589|           0.0000|  419.4589|      null|     null|    null|    null|\n|       45550|              7108| 1/29/2012| 2/10/2012| 2/5/2012|       277|       295|54979.9007|5275.9397|1648.7312|61904.5716|      754|       4| 874.7940|           0.0000| 3499.1760|      null|     null|    null|    null|\n|       45550|              7109| 1/29/2012| 2/10/2012| 2/5/2012|       277|       295|54979.9007|5275.9397|1648.7312|61904.5716|      729|       2| 183.9382|           0.0000|  367.8764|      null|     null|    null|    null|\n|       45550|              7110| 1/29/2012| 2/10/2012| 2/5/2012|       277|       295|54979.9007|5275.9397|1648.7312|61904.5716|      766|       6| 419.4589|           0.0000| 2516.7534|      null|     null|    null|    null|\n|       45550|              7111| 1/29/2012| 2/10/2012| 2/5/2012|       277|       295|54979.9007|5275.9397|1648.7312|61904.5716|      758|       4| 874.7940|           0.0000| 3499.1760|      null|     null|    null|    null|\n|       45550|              7112| 1/29/2012| 2/10/2012| 2/5/2012|       277|       295|54979.9007|5275.9397|1648.7312|61904.5716|      715|       7|  28.8404|           0.0000|  201.8828|      null|     null|    null|    null|\n|       45550|              7113| 1/29/2012| 2/10/2012| 2/5/2012|       277|       295|54979.9007|5275.9397|1648.7312|61904.5716|      764|       4| 419.4589|           0.0000| 1677.8356|      null|     null|    null|    null|\n|       45550|              7114| 1/29/2012| 2/10/2012| 2/5/2012|       277|       295|54979.9007|5275.9397|1648.7312|61904.5716|      751|       5|2146.9620|           0.0000|10734.8100|      null|     null|    null|    null|\n|       45550|              7115| 1/29/2012| 2/10/2012| 2/5/2012|       277|       295|54979.9007|5275.9397|1648.7312|61904.5716|      761|       2| 419.4589|           0.0000|  838.9178|      null|     null|    null|    null|\n|       45550|              7116| 1/29/2012| 2/10/2012| 2/5/2012|       277|       295|54979.9007|5275.9397|1648.7312|61904.5716|      750|       6|2146.9620|           0.0000|12881.7720|      null|     null|    null|    null|\n|       45550|              7117| 1/29/2012| 2/10/2012| 2/5/2012|       277|       295|54979.9007|5275.9397|1648.7312|61904.5716|      712|       5|   5.1865|           0.0000|   25.9325|      null|     null|    null|    null|\n|       46358|             10057| 4/30/2012| 5/12/2012| 5/7/2012|       277|       295|60079.0221|5773.2819|1804.1506|67656.4546|      766|       2| 419.4589|           0.0000|  838.9178|      null|     null|    null|    null|\n|       46358|             10058| 4/30/2012| 5/12/2012| 5/7/2012|       277|       295|60079.0221|5773.2819|1804.1506|67656.4546|      759|       2| 419.4589|           0.0000|  838.9178|      null|     null|    null|    null|\n|       46358|             10059| 4/30/2012| 5/12/2012| 5/7/2012|       277|       295|60079.0221|5773.2819|1804.1506|67656.4546|      749|       2|2146.9620|           0.0000| 4293.9240|      null|     null|    null|    null|\n|       46358|             10060| 4/30/2012| 5/12/2012| 5/7/2012|       277|       295|60079.0221|5773.2819|1804.1506|67656.4546|      767|       2| 419.4589|           0.0000|  838.9178|      null|     null|    null|    null|\n|       46358|             10061| 4/30/2012| 5/12/2012| 5/7/2012|       277|       295|60079.0221|5773.2819|1804.1506|67656.4546|      725|       4| 183.9382|           0.0000|  735.7528|      null|     null|    null|    null|\n|       46358|             10062| 4/30/2012| 5/12/2012| 5/7/2012|       277|       295|60079.0221|5773.2819|1804.1506|67656.4546|      711|       3|  20.1865|           0.0000|   60.5595|      null|     null|    null|    null|\n|       46358|             10063| 4/30/2012| 5/12/2012| 5/7/2012|       277|       295|60079.0221|5773.2819|1804.1506|67656.4546|      761|       1| 419.4589|           0.0000|  419.4589|      null|     null|    null|    null|\n|       46358|             10064| 4/30/2012| 5/12/2012| 5/7/2012|       277|       295|60079.0221|5773.2819|1804.1506|67656.4546|      753|       4|2146.9620|           0.0000| 8587.8480|      null|     null|    null|    null|\n|       46358|             10065| 4/30/2012| 5/12/2012| 5/7/2012|       277|       295|60079.0221|5773.2819|1804.1506|67656.4546|      764|       1| 419.4589|           0.0000|  419.4589|      null|     null|    null|    null|\n|       46358|             10066| 4/30/2012| 5/12/2012| 5/7/2012|       277|       295|60079.0221|5773.2819|1804.1506|67656.4546|      738|       1| 178.5808|           0.0000|  178.5808|      null|     null|    null|    null|\n|       46358|             10067| 4/30/2012| 5/12/2012| 5/7/2012|       277|       295|60079.0221|5773.2819|1804.1506|67656.4546|      707|       4|  20.1865|           0.0000|   80.7460|      null|     null|    null|    null|\n|       46358|             10068| 4/30/2012| 5/12/2012| 5/7/2012|       277|       295|60079.0221|5773.2819|1804.1506|67656.4546|      708|       2|  20.1865|           0.0000|   40.3730|      null|     null|    null|    null|\n|       46358|             10069| 4/30/2012| 5/12/2012| 5/7/2012|       277|       295|60079.0221|5773.2819|1804.1506|67656.4546|      726|       2| 183.9382|           0.0000|  367.8764|      null|     null|    null|    null|\n|       46358|             10070| 4/30/2012| 5/12/2012| 5/7/2012|       277|       295|60079.0221|5773.2819|1804.1506|67656.4546|      722|       2| 178.5808|           0.0000|  357.1616|      null|     null|    null|    null|\n|       46358|             10071| 4/30/2012| 5/12/2012| 5/7/2012|       277|       295|60079.0221|5773.2819|1804.1506|67656.4546|      769|       1| 419.4589|           0.0000|  419.4589|      null|     null|    null|    null|\n|       46358|             10072| 4/30/2012| 5/12/2012| 5/7/2012|       277|       295|60079.0221|5773.2819|1804.1506|67656.4546|      755|       4| 874.7940|           0.0000| 3499.1760|      null|     null|    null|    null|\n|       46358|             10073| 4/30/2012| 5/12/2012| 5/7/2012|       277|       295|60079.0221|5773.2819|1804.1506|67656.4546|      765|       2| 419.4589|           0.0000|  838.9178|      null|     null|    null|    null|\n+------------+------------------+----------+----------+---------+----------+----------+----------+---------+---------+----------+---------+--------+---------+-----------------+----------+----------+---------+--------+--------+\nonly showing top 100 rows\n",
					"output_type": "stream"
				}
			]
		},
		{
			"cell_type": "code",
			"source": "# 24. Writing data down using the Glue Data Catalog\n# delete data from S3 in customers_write_dyf and write_down_dyf_to_s3\n# convert from spark Dataframe to Glue Dynamic DataFrame\n\n# Import Dynamic DataFrame class\nfrom awsglue.dynamicframe import DynamicFrame\n\n#Convert from Spark Data Frame to Glue Dynamic Frame\ndyfCustomersConvert = DynamicFrame.fromDF(sparkDf, glueContext, \"convert\")\n\n#Show converted Glue Dynamic Frame\ndyfCustomersConvert.show()",
			"metadata": {
				"trusted": true
			},
			"execution_count": 29,
			"outputs": [
				{
					"name": "stdout",
					"text": "{\"customerid\": 293, \"firstname\": \"Catherine\", \"lastname\": \"Abel\", \"fullname\": \"Catherine Abel\"}\n{\"customerid\": 295, \"firstname\": \"Kim\", \"lastname\": \"Abercrombie\", \"fullname\": \"Kim Abercrombie\"}\n{\"customerid\": 297, \"firstname\": \"Humberto\", \"lastname\": \"Acevedo\", \"fullname\": \"Humberto Acevedo\"}\n{\"customerid\": 291, \"firstname\": \"Gustavo\", \"lastname\": \"Achong\", \"fullname\": \"Gustavo Achong\"}\n{\"customerid\": 299, \"firstname\": \"Pilar\", \"lastname\": \"Ackerman\", \"fullname\": \"Pilar Ackerman\"}\n{\"customerid\": 305, \"firstname\": \"Carla\", \"lastname\": \"Adams\", \"fullname\": \"Carla Adams\"}\n{\"customerid\": 301, \"firstname\": \"Frances\", \"lastname\": \"Adams\", \"fullname\": \"Frances Adams\"}\n{\"customerid\": 307, \"firstname\": \"Jay\", \"lastname\": \"Adams\", \"fullname\": \"Jay Adams\"}\n{\"customerid\": 309, \"firstname\": \"Ronald\", \"lastname\": \"Adina\", \"fullname\": \"Ronald Adina\"}\n{\"customerid\": 311, \"firstname\": \"Samuel\", \"lastname\": \"Agcaoili\", \"fullname\": \"Samuel Agcaoili\"}\n{\"customerid\": 313, \"firstname\": \"James\", \"lastname\": \"Aguilar\", \"fullname\": \"James Aguilar\"}\n{\"customerid\": 315, \"firstname\": \"Robert\", \"lastname\": \"Ahlering\", \"fullname\": \"Robert Ahlering\"}\n{\"customerid\": 319, \"firstname\": \"Kim\", \"lastname\": \"Akers\", \"fullname\": \"Kim Akers\"}\n{\"customerid\": 441, \"firstname\": \"Stanley\", \"lastname\": \"Alan\", \"fullname\": \"Stanley Alan\"}\n{\"customerid\": 323, \"firstname\": \"Amy\", \"lastname\": \"Alberts\", \"fullname\": \"Amy Alberts\"}\n{\"customerid\": 325, \"firstname\": \"Anna\", \"lastname\": \"Albright\", \"fullname\": \"Anna Albright\"}\n{\"customerid\": 327, \"firstname\": \"Milton\", \"lastname\": \"Albury\", \"fullname\": \"Milton Albury\"}\n{\"customerid\": 329, \"firstname\": \"Paul\", \"lastname\": \"Alcorn\", \"fullname\": \"Paul Alcorn\"}\n{\"customerid\": 331, \"firstname\": \"Gregory\", \"lastname\": \"Alderson\", \"fullname\": \"Gregory Alderson\"}\n{\"customerid\": 333, \"firstname\": \"J. Phillip\", \"lastname\": \"Alexander\", \"fullname\": \"J. Phillip Alexander\"}\n",
					"output_type": "stream"
				}
			]
		},
		{
			"cell_type": "code",
			"source": "# Write Dynamic DataFrame down to S3 location\n\n# write down the data in converted Dynamic Frame to S3 location. \nglueContext.write_dynamic_frame.from_options(\n                            frame = dyfCustomersConvert,\n                            connection_type=\"s3\", \n                            connection_options = {\"path\": \"s3://gavxro-pyspark-tutorial/write_down_dyf_to_s3\"}, \n                            format = \"csv\", \n                            format_options={\n                                \"separator\": \",\"\n                                },\n                            transformation_ctx = \"datasink2\")",
			"metadata": {
				"trusted": true
			},
			"execution_count": 30,
			"outputs": [
				{
					"name": "stdout",
					"text": "<awsglue.dynamicframe.DynamicFrame object at 0x7f2a85675b50>\n",
					"output_type": "stream"
				}
			]
		},
		{
			"cell_type": "code",
			"source": "# Write Dynamic DataFrame using Glue Data Catalog\n\n# write data from the converted to customers_write_dyf table using the meta data stored in the glue data catalog \nglueContext.write_dynamic_frame.from_catalog(\n    frame = dyfCustomersConvert,\n    database = \"pyspark_tutorial_db\",  \n    table_name = \"customers_write_dyf\")",
			"metadata": {
				"trusted": true
			},
			"execution_count": 31,
			"outputs": [
				{
					"name": "stdout",
					"text": "<awsglue.dynamicframe.DynamicFrame object at 0x7f2a8567a250>\n",
					"output_type": "stream"
				}
			]
		},
		{
			"cell_type": "code",
			"source": "",
			"metadata": {},
			"execution_count": null,
			"outputs": []
		}
	]
}